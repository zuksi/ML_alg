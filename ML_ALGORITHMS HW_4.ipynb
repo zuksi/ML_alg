{
 "cells": [
  {
   "cell_type": "markdown",
   "metadata": {},
   "source": [
    "1. В коде из методички реализуйте один или несколько из критериев останова (количество листьев, количество используемых признаков, глубина дерева и т.д.)"
   ]
  },
  {
   "cell_type": "code",
   "execution_count": 1,
   "metadata": {},
   "outputs": [],
   "source": [
    "import matplotlib.pyplot as plt\n",
    "%matplotlib inline\n",
    "import random\n",
    "\n",
    "from matplotlib.colors import ListedColormap\n",
    "from sklearn import datasets\n",
    "\n",
    "import numpy as np"
   ]
  },
  {
   "cell_type": "code",
   "execution_count": 2,
   "metadata": {},
   "outputs": [],
   "source": [
    "classification_data, classification_labels = datasets.make_classification(n_features = 2, n_informative = 2, \n",
    "                                                      n_classes = 2, n_redundant=0, \n",
    "                                                      n_clusters_per_class=1, random_state=5)"
   ]
  },
  {
   "cell_type": "code",
   "execution_count": 3,
   "metadata": {},
   "outputs": [],
   "source": [
    "class Node:\n",
    "    \n",
    "    def __init__(self, index, t, true_branch, false_branch):\n",
    "        self.index = index  # индекс признака, по которому ведется сравнение с порогом в этом узле\n",
    "        self.t = t  # значение порога\n",
    "        self.true_branch = true_branch  # поддерево, удовлетворяющее условию в узле\n",
    "        self.false_branch = false_branch  # поддерево, не удовлетворяющее условию в узле"
   ]
  },
  {
   "cell_type": "code",
   "execution_count": 4,
   "metadata": {},
   "outputs": [],
   "source": [
    "# И класс терминального узла (листа)\n",
    "\n",
    "class Leaf:\n",
    "    \n",
    "    def __init__(self, data, labels):\n",
    "        self.data = data # значения признаков\n",
    "        self.labels = labels  # y_true\n",
    "        self.prediction = self.predict()  # y_pred\n",
    "        \n",
    "    def predict(self):\n",
    "        # подсчет количества объектов разных классов\n",
    "        classes = {}  # сформируем словарь \"класс: количество объектов\"\n",
    "        for label in self.labels:\n",
    "            if label not in classes:\n",
    "                classes[label] = 0\n",
    "            classes[label] += 1\n",
    "        #  найдем класс, количество объектов которого будет максимальным в этом листе и вернем его   \n",
    "        prediction = max(classes, key=classes.get)\n",
    "        return prediction"
   ]
  },
  {
   "cell_type": "code",
   "execution_count": 5,
   "metadata": {},
   "outputs": [],
   "source": [
    "def gini(labels):\n",
    "    #  подсчет количества объектов разных классов\n",
    "    classes = {}\n",
    "    for label in labels:\n",
    "        if label not in classes:\n",
    "            classes[label] = 0\n",
    "        classes[label] += 1\n",
    "    \n",
    "    #  расчет критерия\n",
    "    impurity = 1     # \"impurity\" - \"нечистота\", степень неопределенности\n",
    "    for label in classes:\n",
    "        p = classes[label] / len(labels) # долю объектов класса в листе\n",
    "        impurity -= p ** 2 # Критерий Джини\n",
    "        \n",
    "    return impurity"
   ]
  },
  {
   "cell_type": "code",
   "execution_count": 6,
   "metadata": {},
   "outputs": [],
   "source": [
    "def quality(left_labels, right_labels, current_gini):\n",
    "\n",
    "    # доля выборки, ушедшей в левое поддерево\n",
    "    p = float(left_labels.shape[0]) / (left_labels.shape[0] + right_labels.shape[0]) # для правого (1-p)\n",
    "    \n",
    "    return current_gini - p * gini(left_labels) - (1 - p) * gini(right_labels) # Функционал качества"
   ]
  },
  {
   "cell_type": "code",
   "execution_count": 7,
   "metadata": {},
   "outputs": [],
   "source": [
    "def split(data, labels, index, t):\n",
    "    \n",
    "    left = np.where(data[:, index] <= t)\n",
    "    right = np.where(data[:, index] > t)\n",
    "        \n",
    "    true_data = data[left]\n",
    "    false_data = data[right]\n",
    "    true_labels = labels[left]\n",
    "    false_labels = labels[right]\n",
    "        \n",
    "    return true_data, false_data, true_labels, false_labels"
   ]
  },
  {
   "cell_type": "markdown",
   "metadata": {},
   "source": [
    "В качестве критерия останова здесь я реализую останов в случае, когда все объекты в листе относятся к одному классу."
   ]
  },
  {
   "cell_type": "code",
   "execution_count": 8,
   "metadata": {},
   "outputs": [],
   "source": [
    "def find_best_split(data, labels):\n",
    "\n",
    "    current_gini = gini(labels) \n",
    "\n",
    "    best_quality = 0\n",
    "    best_t = None \n",
    "    best_index = None \n",
    "    \n",
    "    n_features = data.shape[1] \n",
    "    \n",
    "    for index in range(n_features): \n",
    "        t_values = [row[index] for row in data] \n",
    "        \n",
    "        for t in t_values: \n",
    "            true_data, false_data, true_labels, false_labels = split(data, labels, index, t) \n",
    "            \n",
    "            current_quality = quality(true_labels, false_labels, current_gini)\n",
    "            \n",
    "            if current_quality > best_quality:\n",
    "                best_quality, best_t, best_index = current_quality, t, index\n",
    "\n",
    "    return best_quality, best_t, best_index"
   ]
  },
  {
   "cell_type": "code",
   "execution_count": 9,
   "metadata": {},
   "outputs": [],
   "source": [
    "def build_tree(data, labels):\n",
    "\n",
    "    quality, t, index = find_best_split(data, labels) \n",
    "\n",
    "    if len(set(labels)) == 1: # если все значения относятся к одному классу, возвращаем лист\n",
    "        \n",
    "        return Leaf(data, labels) \n",
    "    \n",
    "   \n",
    "    true_data, false_data, true_labels, false_labels = split(data, labels, index, t)\n",
    "\n",
    "    \n",
    "    true_branch = build_tree(true_data, true_labels)\n",
    "    false_branch = build_tree(false_data, false_labels)\n",
    "\n",
    "    \n",
    "    return Node(index, t, true_branch, false_branch)"
   ]
  },
  {
   "cell_type": "code",
   "execution_count": 10,
   "metadata": {},
   "outputs": [],
   "source": [
    "def classify_object(obj, node):\n",
    "\n",
    "    #  Останавливаем рекурсию, если достигли листа\n",
    "    if isinstance(node, Leaf): # проверка текущий узел это лист?\n",
    "        answer = node.prediction # считаем прогноз для листа\n",
    "        return answer\n",
    "\n",
    "    if obj[node.index] <= node.t: # если значение признака меньше порога t\n",
    "        return classify_object(obj, node.true_branch) # рекурсия: отправляем объект в true-ветку\n",
    "    else:\n",
    "        return classify_object(obj, node.false_branch) # рекурсия: отправляем объект в false-ветку"
   ]
  },
  {
   "cell_type": "code",
   "execution_count": 11,
   "metadata": {},
   "outputs": [],
   "source": [
    "def predict(data, tree):\n",
    "    \n",
    "    classes = []\n",
    "    \n",
    "    for obj in data:\n",
    "        prediction = classify_object(obj, tree) # определяем ветки для объектов\n",
    "        classes.append(prediction)\n",
    "    return classes"
   ]
  },
  {
   "cell_type": "code",
   "execution_count": 12,
   "metadata": {},
   "outputs": [],
   "source": [
    "from sklearn import model_selection\n",
    "\n",
    "train_data, test_data, train_labels, test_labels = model_selection.train_test_split(classification_data, \n",
    "                                                                                     classification_labels, \n",
    "                                                                                     test_size = 0.3,\n",
    "                                                                                     random_state = 1)"
   ]
  },
  {
   "cell_type": "code",
   "execution_count": 13,
   "metadata": {},
   "outputs": [
    {
     "name": "stdout",
     "output_type": "stream",
     "text": [
      "<__main__.Node object at 0x0000022355E591D0>\n"
     ]
    }
   ],
   "source": [
    "my_tree = build_tree(train_data, train_labels)\n",
    "print(my_tree)"
   ]
  },
  {
   "cell_type": "code",
   "execution_count": 25,
   "metadata": {},
   "outputs": [
    {
     "name": "stdout",
     "output_type": "stream",
     "text": [
      "Индекс 0\n",
      "Порог 0.16261402870113306\n",
      "--> True:\n",
      "  Индекс 1\n",
      "  Порог -1.5208896621663803\n",
      "  --> True:\n",
      "    Индекс 0\n",
      "    Порог -0.9478301462477035\n",
      "    --> True:\n",
      "      Прогноз: 0\n",
      "    --> False:\n",
      "      Индекс 0\n",
      "      Порог -0.4942656820712277\n",
      "      --> True:\n",
      "        Индекс 0\n",
      "        Порог -0.8411814419026544\n",
      "        --> True:\n",
      "          Прогноз: 1\n",
      "        --> False:\n",
      "          Прогноз: 0\n",
      "      --> False:\n",
      "        Прогноз: 1\n",
      "  --> False:\n",
      "    Прогноз: 0\n",
      "--> False:\n",
      "  Прогноз: 1\n"
     ]
    }
   ],
   "source": [
    "def print_tree(node, spacing=\"\"):\n",
    "\n",
    "    # Если лист, то выводим его прогноз\n",
    "    if isinstance(node, Leaf):\n",
    "        print(spacing + \"Прогноз:\", node.prediction)\n",
    "        return\n",
    "\n",
    "    # Выведем значение индекса и порога на этом узле\n",
    "    print(spacing + 'Индекс', str(node.index))\n",
    "    print(spacing + 'Порог', str(node.t))\n",
    "\n",
    "    # Рекурсионный вызов функции на положительном поддереве\n",
    "    print (spacing + '--> True:')\n",
    "    print_tree(node.true_branch, spacing + \"  \")\n",
    "\n",
    "    # Рекурсионный вызов функции на отрицательном поддереве\n",
    "    print (spacing + '--> False:')\n",
    "    print_tree(node.false_branch, spacing + \"  \")\n",
    "    \n",
    "print_tree(my_tree)"
   ]
  },
  {
   "cell_type": "markdown",
   "metadata": {},
   "source": [
    "2*.  Реализуйте дерево для задачи регрессии. Возьмите за основу дерево, реализованное в методичке, заменив механизм предсказания в листе на взятие среднего значения по выборке, и критерий Джини на дисперсию значений.\n",
    "В материалах также есть пример скрипта для расчета дерева - Lesson_4_script, им можно воспользоваться аналогично тому, как это было на предыдущих уроках"
   ]
  },
  {
   "cell_type": "code",
   "execution_count": 38,
   "metadata": {},
   "outputs": [],
   "source": [
    "regression_data, regression_values = datasets.make_regression(n_features = 2, n_informative = 2, random_state=54)"
   ]
  },
  {
   "cell_type": "code",
   "execution_count": 41,
   "metadata": {},
   "outputs": [],
   "source": [
    "class Leaf_reg:\n",
    "    \n",
    "    def __init__(self, data, values):\n",
    "        self.data = data # значения признаков\n",
    "        self.values = values  # y_true\n",
    "        self.prediction = self.predict()  # y_pred\n",
    "        \n",
    "    def predict(self):\n",
    "        #  вернем в качестве предсказания среднее по выборке   \n",
    "        prediction = np.mean(self.values)\n",
    "        return prediction"
   ]
  },
  {
   "cell_type": "code",
   "execution_count": 42,
   "metadata": {},
   "outputs": [],
   "source": [
    "def quality_reg(left_values, right_values, variance):\n",
    "    \n",
    "    # доля выборки, ушедшей в левое поддерево\n",
    "    p = float(left_values.shape[0]) / (left_values.shape[0] + right_values.shape[0]) # для правого (1-p)\n",
    "    \n",
    "    return variance - p*np.var(left_values) - (1-p)*np.var(right_values)"
   ]
  },
  {
   "cell_type": "code",
   "execution_count": 43,
   "metadata": {},
   "outputs": [],
   "source": [
    "def split_reg(data, values, index, t):\n",
    "    \n",
    "    left = np.where(data[:, index] <= t)\n",
    "    right = np.where(data[:, index] > t)\n",
    "        \n",
    "    true_data = data[left]\n",
    "    false_data = data[right]\n",
    "    true_values = values[left]\n",
    "    false_values = values[right]\n",
    "        \n",
    "    return true_data, false_data, true_values, false_values"
   ]
  },
  {
   "cell_type": "code",
   "execution_count": 45,
   "metadata": {},
   "outputs": [],
   "source": [
    "def find_best_split_reg(data, values):\n",
    "    \n",
    "    variance = np.var(values) \n",
    "\n",
    "    best_quality = 0\n",
    "    best_t = None \n",
    "    best_index = None \n",
    "    \n",
    "    n_features = data.shape[1] \n",
    "    \n",
    "    for index in range(n_features): \n",
    "        t_values = [row[index] for row in data] \n",
    "        \n",
    "        for t in t_values: \n",
    "            true_data, false_data, true_values, false_values = split_reg(data, values, index, t) \n",
    "            \n",
    "            current_quality = quality_reg(true_values, false_values, variance)\n",
    "            \n",
    "            if current_quality > best_quality:\n",
    "                best_quality, best_t, best_index = current_quality, t, index\n",
    "\n",
    "    return best_quality, best_t, best_index"
   ]
  },
  {
   "cell_type": "markdown",
   "metadata": {},
   "source": [
    "В качестве критерия останова использовала ограничение максимальной глубины дерева. "
   ]
  },
  {
   "cell_type": "code",
   "execution_count": 75,
   "metadata": {},
   "outputs": [],
   "source": [
    "def build_tree_reg(data, values, depth =0, max_depth = 5):\n",
    "    \n",
    "    quality, t, index = find_best_split_reg(data, values) \n",
    "\n",
    "    if quality == 0 or depth == max_depth:\n",
    "        \n",
    "        return Leaf_reg(data, values) \n",
    "    \n",
    "    true_data, false_data, true_values, false_values = split(data, values, index, t)\n",
    "    \n",
    "    depth_new = depth + 1\n",
    "    true_branch = build_tree_reg(true_data, true_values, depth_new)\n",
    "    false_branch = build_tree_reg(false_data, false_values, depth_new)\n",
    "\n",
    "    return Node(index, t, true_branch, false_branch)"
   ]
  },
  {
   "cell_type": "code",
   "execution_count": 76,
   "metadata": {},
   "outputs": [],
   "source": [
    "def classify_object_reg(obj, node):\n",
    "\n",
    "    #  Останавливаем рекурсию, если достигли листа\n",
    "    if isinstance(node, Leaf_reg): # проверка текущий узел это лист?\n",
    "        answer = node.prediction # считаем прогноз для листа\n",
    "        return answer\n",
    "\n",
    "    if obj[node.index] <= node.t: # если значение признака меньше порога t\n",
    "        return classify_object_reg(obj, node.true_branch) # рекурсия: отправляем объект в true-ветку\n",
    "    else:\n",
    "        return classify_object_reg(obj, node.false_branch) # рекурсия: отправляем объект в false-ветку"
   ]
  },
  {
   "cell_type": "code",
   "execution_count": 77,
   "metadata": {},
   "outputs": [],
   "source": [
    "def predict_reg(data, tree):\n",
    "    \n",
    "    values = []\n",
    "    \n",
    "    for obj in data:\n",
    "        prediction = classify_object_reg(obj, tree) # определяем ветки для объектов\n",
    "        values.append(prediction)\n",
    "    return values"
   ]
  },
  {
   "cell_type": "code",
   "execution_count": 78,
   "metadata": {},
   "outputs": [],
   "source": [
    "from sklearn import model_selection\n",
    "\n",
    "train_data_reg, test_data_reg, train_values, test_values = model_selection.train_test_split(regression_data, \n",
    "                                                                                     regression_values, \n",
    "                                                                                     test_size = 0.3,\n",
    "                                                                                     random_state = 1)"
   ]
  },
  {
   "cell_type": "code",
   "execution_count": 79,
   "metadata": {},
   "outputs": [
    {
     "name": "stdout",
     "output_type": "stream",
     "text": [
      "<__main__.Node object at 0x00000223564255F8>\n"
     ]
    }
   ],
   "source": [
    "my_tree_reg = build_tree_reg(train_data_reg, train_values)\n",
    "print(my_tree_reg)"
   ]
  },
  {
   "cell_type": "code",
   "execution_count": 80,
   "metadata": {},
   "outputs": [
    {
     "name": "stdout",
     "output_type": "stream",
     "text": [
      "Индекс 0\n",
      "Порог -0.1233520210831071\n",
      "--> True:\n",
      "  Индекс 0\n",
      "  Порог -0.9540273840395093\n",
      "  --> True:\n",
      "    Индекс 0\n",
      "    Порог -1.6337823062115282\n",
      "    --> True:\n",
      "      Индекс 1\n",
      "      Порог -1.4709785555691692\n",
      "      --> True:\n",
      "        Прогноз: -88.16108547574878\n",
      "      --> False:\n",
      "        Индекс 0\n",
      "        Порог -1.9938757057055059\n",
      "        --> True:\n",
      "          Прогноз: -73.32627770685623\n",
      "        --> False:\n",
      "          Прогноз: -64.43375164538678\n",
      "    --> False:\n",
      "      Индекс 1\n",
      "      Порог 0.07856382551083278\n",
      "      --> True:\n",
      "        Индекс 1\n",
      "        Порог -0.9450240252146124\n",
      "        --> True:\n",
      "          Прогноз: -58.89641831306484\n",
      "        --> False:\n",
      "          Прогноз: -49.73920261023643\n",
      "      --> False:\n",
      "        Индекс 0\n",
      "        Порог -1.5500218326779363\n",
      "        --> True:\n",
      "          Прогноз: -29.287220596528666\n",
      "        --> False:\n",
      "          Прогноз: -19.839425469609186\n",
      "  --> False:\n",
      "    Индекс 1\n",
      "    Порог 0.6245624608756769\n",
      "    --> True:\n",
      "      Индекс 1\n",
      "      Порог -0.40425156235749193\n",
      "      --> True:\n",
      "        Индекс 1\n",
      "        Порог -0.6887309638116856\n",
      "        --> True:\n",
      "          Прогноз: -35.69953065596945\n",
      "        --> False:\n",
      "          Прогноз: -26.789386259229378\n",
      "      --> False:\n",
      "        Индекс 0\n",
      "        Порог -0.9486885468101632\n",
      "        --> True:\n",
      "          Прогноз: -28.001027943551573\n",
      "        --> False:\n",
      "          Прогноз: -16.448301400345862\n",
      "    --> False:\n",
      "      Индекс 0\n",
      "      Порог -0.5057234326291323\n",
      "      --> True:\n",
      "        Индекс 0\n",
      "        Порог -0.8559318805461692\n",
      "        --> True:\n",
      "          Прогноз: 6.289040520762978\n",
      "        --> False:\n",
      "          Прогноз: 0.5548153151092308\n",
      "      --> False:\n",
      "        Прогноз: 23.108173093741406\n",
      "--> False:\n",
      "  Индекс 0\n",
      "  Порог 0.7970526796156294\n",
      "  --> True:\n",
      "    Индекс 1\n",
      "    Порог -1.9804999307013027\n",
      "    --> True:\n",
      "      Индекс 0\n",
      "      Порог 0.4108307095649794\n",
      "      --> True:\n",
      "        Прогноз: -37.288512103913064\n",
      "      --> False:\n",
      "        Прогноз: -14.191124784348624\n",
      "    --> False:\n",
      "      Индекс 1\n",
      "      Порог 0.7184082023819686\n",
      "      --> True:\n",
      "        Индекс 1\n",
      "        Порог -0.45802927361750695\n",
      "        --> True:\n",
      "          Прогноз: 2.0087380599083224\n",
      "        --> False:\n",
      "          Прогноз: 14.77103775960574\n",
      "      --> False:\n",
      "        Индекс 0\n",
      "        Порог -0.11915447838074458\n",
      "        --> True:\n",
      "          Прогноз: 15.324608461004832\n",
      "        --> False:\n",
      "          Прогноз: 35.154369518833064\n",
      "  --> False:\n",
      "    Индекс 1\n",
      "    Порог -1.2692044202448813\n",
      "    --> True:\n",
      "      Индекс 0\n",
      "      Порог 1.0213132702676841\n",
      "      --> True:\n",
      "        Прогноз: 8.382404016712506\n",
      "      --> False:\n",
      "        Индекс 0\n",
      "        Порог 1.379483822960485\n",
      "        --> True:\n",
      "          Прогноз: 15.525975609187613\n",
      "        --> False:\n",
      "          Прогноз: 22.290567112976305\n",
      "    --> False:\n",
      "      Индекс 0\n",
      "      Порог 1.155012980029295\n",
      "      --> True:\n",
      "        Индекс 1\n",
      "        Порог -0.09437519982511976\n",
      "        --> True:\n",
      "          Прогноз: 31.252767400306332\n",
      "        --> False:\n",
      "          Прогноз: 53.26131857439169\n",
      "      --> False:\n",
      "        Индекс 1\n",
      "        Порог 0.9392819231654876\n",
      "        --> True:\n",
      "          Прогноз: 61.88912774300008\n",
      "        --> False:\n",
      "          Прогноз: 82.22211881399144\n"
     ]
    }
   ],
   "source": [
    "def print_tree_reg(node, spacing=\"\"):\n",
    "\n",
    "    if isinstance(node, Leaf_reg):\n",
    "        print(spacing + \"Прогноз:\", node.prediction)\n",
    "        return\n",
    "\n",
    "    print(spacing + 'Индекс', str(node.index))\n",
    "    print(spacing + 'Порог', str(node.t))\n",
    "\n",
    "    print (spacing + '--> True:')\n",
    "    print_tree_reg(node.true_branch, spacing + \"  \")\n",
    "\n",
    "    print (spacing + '--> False:')\n",
    "    print_tree_reg(node.false_branch, spacing + \"  \")\n",
    "    \n",
    "print_tree_reg(my_tree_reg)"
   ]
  }
 ],
 "metadata": {
  "kernelspec": {
   "display_name": "Python 3",
   "language": "python",
   "name": "python3"
  },
  "language_info": {
   "codemirror_mode": {
    "name": "ipython",
    "version": 3
   },
   "file_extension": ".py",
   "mimetype": "text/x-python",
   "name": "python",
   "nbconvert_exporter": "python",
   "pygments_lexer": "ipython3",
   "version": "3.7.3"
  }
 },
 "nbformat": 4,
 "nbformat_minor": 2
}
